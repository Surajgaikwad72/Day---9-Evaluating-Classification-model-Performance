{
 "cells": [
  {
   "cell_type": "code",
   "execution_count": null,
   "id": "bf711b2a-1a57-4acd-bbff-2b9fcfe1a54f",
   "metadata": {},
   "outputs": [],
   "source": []
  }
 ],
 "metadata": {
  "kernelspec": {
   "display_name": "",
   "name": ""
  },
  "language_info": {
   "name": ""
  }
 },
 "nbformat": 4,
 "nbformat_minor": 5
}
